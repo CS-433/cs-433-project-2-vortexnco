{
 "cells": [
  {
   "cell_type": "markdown",
   "metadata": {},
   "source": [
    "# Training the *U-Net*\n",
    "\n",
    "You can train the Network giving the best performance in this notebook.\n",
    "Training takes considerable time if not done on a GPU.\n",
    "\n",
    "You can view the version we actually use here, that has already been run :\n",
    "<a href=\"https://colab.research.google.com/drive/11Iehgxgq7MpbHPI62Nhdc8etpGsuzMcr?usp=sharing\" target=\"_parent\"><img src=\"https://colab.research.google.com/assets/colab-badge.svg\" alt=\"Open In Colab\"/></a>\n",
    "\n",
    "Running this Notebook will:\n",
    "1. Train the U-Net with the specified parameters.\n",
    "2. Plot the Train and Validation loss over the training,\n",
    "3. Save the model parameters.\n",
    "4. Save the train and validation losses in a .txt file."
   ]
  },
  {
   "cell_type": "code",
   "execution_count": 1,
   "metadata": {},
   "outputs": [],
   "source": [
    "%load_ext autoreload\n",
    "%autoreload 2"
   ]
  },
  {
   "cell_type": "code",
   "execution_count": 2,
   "metadata": {},
   "outputs": [],
   "source": [
    "import sys\n",
    "import os\n",
    "\n",
    "#Adding path of src forlder to be able to use all defined functions\n",
    "src_path = os.path.abspath(os.path.join('..'))\n",
    "if src_path not in sys.path:\n",
    "    sys.path.append(src_path+\"\\src\")\n",
    "\n",
    "from pipeline import main"
   ]
  },
  {
   "cell_type": "code",
   "execution_count": 3,
   "metadata": {},
   "outputs": [],
   "source": [
    "weight_0percent = 5.13\n",
    "weight_25percent = 6.46\n",
    "weight_50percent = 8.10"
   ]
  },
  {
   "cell_type": "code",
   "execution_count": 6,
   "metadata": {},
   "outputs": [],
   "source": [
    "model, avg_train_error, avg_validation_error = main(\n",
    "    num_epochs=100,\n",
    "    learning_rate=1e-3,\n",
    "    use_scheduler=False,\n",
    "    milestones_scheduler=[100],\n",
    "    gamma_scheduler=0.1,\n",
    "    batch_size=32,\n",
    "    optimizer_type=\"ADAM\",\n",
    "    prop_noPV_training=0.0,\n",
    "    min_rescale_images=0.6,\n",
    "    file_losses=\"losses.txt\",\n",
    "    saving_frequency=2,\n",
    "    weight_for_positive_class=weight_0percent,\n",
    "    save_model_parameters=True,\n",
    "    load_model_parameters=False,\n",
    "    dir_for_model_parameters=\"../saved_models\",\n",
    "    filename_model_parameters_to_load=None,\n",
    "    filename_model_parameters_to_save=\"modelUNet\",\n",
    ")"
   ]
  },
  {
   "cell_type": "code",
   "execution_count": null,
   "metadata": {},
   "outputs": [],
   "source": [
    "plt.plot(avg_train_error, label=\"Train error\")\n",
    "plt.plot(avg_validation_error, label=\"Validation error\")\n",
    "plt.ylim(0, 2)\n",
    "plt.legend()\n",
    "plt.xlabel(\"Epochs\")\n",
    "plt.ylabel(\"Loss\")\n",
    "plt.title(\"Test and Validation errors during training\")\n",
    "plt.show()"
   ]
  }
 ],
 "metadata": {
  "kernelspec": {
   "display_name": "Python [conda env:ada] *",
   "language": "python",
   "name": "conda-env-ada-py"
  },
  "language_info": {
   "codemirror_mode": {
    "name": "ipython",
    "version": 3
   },
   "file_extension": ".py",
   "mimetype": "text/x-python",
   "name": "python",
   "nbconvert_exporter": "python",
   "pygments_lexer": "ipython3",
   "version": "3.8.5"
  }
 },
 "nbformat": 4,
 "nbformat_minor": 4
}
